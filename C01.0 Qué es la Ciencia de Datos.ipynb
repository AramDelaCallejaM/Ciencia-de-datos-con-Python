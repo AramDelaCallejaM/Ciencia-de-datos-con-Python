{
 "cells": [
  {
   "cell_type": "markdown",
   "metadata": {},
   "source": [
    "<img src=\"logo.png\">"
   ]
  },
  {
   "cell_type": "markdown",
   "metadata": {},
   "source": [
    "# Ciencia de datos\n",
    "\n",
    "\"Un científico de datos es una clase de científico que sabe más matemáticas que los programadores pero y más programación que los matemáticos\".\n",
    "\n",
    "Hoy en día, trabajar con datos obtenidos a partir de observaciones y experimentación es un trabajo diario de suma importancia, pues se trata de una disciplina, con parte artesanal, muy apegada a la gran mayoría de las actividades humanas.\n",
    "\n",
    "Se trabaja con datos desde las bolsas de valores hasta los entrenamientos deportivos, pasando por estudios demográficos y de optimización, mercadotécnicos y hasta legales y políticos.\n",
    "\n",
    "Junto con el desarrollo de la computación, el estadístico usual fue pasando por etapas diferentes: de ser estadístico pasa a ser minero de datos; luego administrador de datos; luego arquitecto e ingeniero de datos y en los últimos años adquiere esta categoría llamada científico de datos.\n",
    "\n",
    "En general, la Ciencia de datos puede entenderse como muestra la siguiente lámina:"
   ]
  },
  {
   "cell_type": "markdown",
   "metadata": {},
   "source": [
    "<img src=\"cdatos_infografia.png\">"
   ]
  },
  {
   "cell_type": "markdown",
   "metadata": {},
   "source": [
    "Veamos un ejemplo clásico del tipo de problemas a los que se enfrenta un científico de datos."
   ]
  },
  {
   "cell_type": "markdown",
   "metadata": {},
   "source": [
    "## Un problema clásico y real.\n",
    "\n",
    "Supongamos que eres contratado por un restaurantero que piensa reabrir su negocio vacacional.\n",
    "\n",
    "El restaurantero tiene el siguiente problema: Puede comprar $500$ sillas a un cierto precio alto pero decente, o bien, comprar $1000$ a un precio bastante mas alto. \n",
    "\n",
    "Él sabe que está obligado a comprar al menos las $500$ sillas, y probablemente deba comprar las $1000$ pero no está seguro. Basado en su experiencia, sabe también que tiene $30$ clientes seguros que nunca van a ir a comer a su local, pues solo piden la comida para llevar y de hecho no hacen reservaciones. Además, diariamente tiene una ocupación del 80\\% de su local. \n",
    "\n",
    "Más aún, sabe que el 93\\% de las personas que hacen reservaciones durante el mes sí asisten algún día y el 7% restante no.\n",
    "\n",
    "Supongamos que $n$ personas le han dicho que irán por sus productos (entre los que consumirán en el lugar y los que no). \n",
    "\n",
    "El restaurantero te pide lo siguiente: ¿Cómo debe ser $n$ para saber si conviene o no comprar las 1000 sillas?\n",
    "\n"
   ]
  },
  {
   "cell_type": "markdown",
   "metadata": {},
   "source": [
    "## Una posible solución.\n",
    "\n",
    "Observemos que el número de los que solo consumen para llevar es una variable aleatoria que no conocemos. Llamémosla $m$. Sabemos que $m\\ge30$.\n",
    "\n",
    "Lo primero es notar cuándo vale la pena el problema: si $n-m\\le500$ no hay problema. Asumamos entonces que $n-m>500$.\n",
    "\n",
    "El peor de los casos se da cuando los $n-m$ sí asisten. Entonces $n-m-500$ me dice cuántos se quedan fuera en el peor de los casos. Al ser $m\\ge 30$ se sigue que $n-m-500\\le n-30-500=n-530$.\n",
    "\n",
    "Es decir, sin importar $m$, a lo más se quedan fuera $n-530$.\n",
    "\n",
    "Por otra parte, de los $n-m$ que llaman no sabemos si comerán ahí o no. Pero el 93\\% de las reservaciones acuden algún día de la semana, así que se espera que $0.93(n-m)$ acudan a la cita.\n",
    "\n",
    "Además, un día cualquiera se espera que acudan el 80\\% , de modo que en realidad esperamos que diariamente acudan $0.8\\times0.93(n-m)$ al local. Luego, si $500-0.8\\times0.93(n-m)>0$ habrá suficiente espacio. Al ser $m\\ge 30$, se tiene $$500-0.8\\times0.93(n-m)\\ge 500-0.8\\times0.93(n-30)=522.32-0.744n$$  \n",
    "\n",
    "Con esto concluimos lo siguiente:\n",
    "\n",
    "1) Si $522.32-0.744n>0$ esperamos que hayan suficientes lugares disponibles. Esto es $n<700$ (aproximadamente). Es decir, si $n<700$, entonces se espera tener al menos $522.32-0.744n$ lugares disponibles.\n",
    "\n",
    "2) Como en el peor de los casos a lo más quedan $n-30$ fuera, si el número de espacios disponibles es mayor que el del peor caso, entonces ya ganamos: $n-530<522.32-0.744n$ lo que equivale a $n\\le600$, aproximadamente.\n",
    "\n",
    "Por lo tanto, para $n=600$ esperamos que en el peor de los casos queden fuera 70 personas. Sin embargo, también esperamos que hayan aproximadamente 76 lugares vacíos. Es decir, TODOS ENTRARÍAN AL LOCAL para $n=600$.\n",
    "\n"
   ]
  }
 ],
 "metadata": {
  "kernelspec": {
   "display_name": "Python 3",
   "language": "python",
   "name": "python3"
  },
  "language_info": {
   "codemirror_mode": {
    "name": "ipython",
    "version": 3
   },
   "file_extension": ".py",
   "mimetype": "text/x-python",
   "name": "python",
   "nbconvert_exporter": "python",
   "pygments_lexer": "ipython3",
   "version": "3.7.7"
  }
 },
 "nbformat": 4,
 "nbformat_minor": 4
}
