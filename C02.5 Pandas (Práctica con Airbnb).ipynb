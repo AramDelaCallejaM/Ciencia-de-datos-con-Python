{
 "cells": [
  {
   "cell_type": "markdown",
   "metadata": {},
   "source": [
    "<img src=\"logo.png\">"
   ]
  },
  {
   "cell_type": "markdown",
   "metadata": {},
   "source": [
    "Supongamos que somos un agente de Airbnb localizado en CDMX, y tenemos que atender peticiones de varios clientes. Tenemos un archivo llamado airbnb_cdmx.csv donde tenemos información de todos los alojamientos de Airbnb en CDMX"
   ]
  },
  {
   "cell_type": "code",
   "execution_count": null,
   "metadata": {},
   "outputs": [],
   "source": [
    "import numpy as np\n",
    "import pandas as pd"
   ]
  },
  {
   "cell_type": "markdown",
   "metadata": {},
   "source": [
    "``airbnb = pd.read_csv(\"Direccion donde descargaste el archivo airbnb_cdmx.csv /airbnb_cdmx.csv\")\n",
    "airbnb``"
   ]
  },
  {
   "cell_type": "markdown",
   "metadata": {},
   "source": [
    "En concreto el dataset tiene las siguientes variables:\n",
    "\n",
    "* id: el identificador de la propiedad\n",
    "* host_id: el identificador del dueño de la propiedad\n",
    "* neighborhood_cleansed: alcaldía en CDMX\n",
    "* property_type: tipo de propiedad \n",
    "* room_type: tipo de habitación\n",
    "* accommodates: El numero de personas que se pueden alojar en la propiedad price: precio (en pesos mexicanos)\n",
    "* minimum_nights, maximum_nights: mínimo y máximo de noches\n",
    "* bedrooms: El número de habitaciones\n",
    "* beds: número de camas\n",
    "* cancellation_policy: política de cancelación\n",
    "* number_of_reviews: El numero de opiniones\n",
    "* review_scores_accuracy: Puntuacion media del apartamento"
   ]
  },
  {
   "cell_type": "markdown",
   "metadata": {},
   "source": [
    "## Alicia y su familia\n",
    "\n",
    "Alicia va a ir a CDMX durante una semana con su marido y sus 2 hijos. Están buscando un apartamento con habitaciones separadas para los padres y los hijos. No les importa donde alojarse o el precio, simplemente quieren tener una experiencia agradable. Esto significa que solo aceptan lugares con más de 10 críticas con una puntuación mayor de 4. Cuando seleccionemos habitaciones para Alicia, tenemos que asegurarnos de ordenar las habitaciones de mejor a peor puntuación. Para aquellas habitaciones que tienen la misma puntuación, debemos mostrar antes aquellas con más críticas. Debemos a lo más la tercera parte del total de posibilidades."
   ]
  },
  {
   "cell_type": "markdown",
   "metadata": {},
   "source": [
    "## Roberto contra su hermana\n",
    "\n",
    "Roberto es un casero que tiene una casa en Airbnb. De vez en cuando nos llama preguntando sobre cuales son las críticas de su alojamiento. Hoy está particularmente molesto, ya que su hermana Valentina ha puesto una casa en Airbnb y Roberto quiere asegurarse de que su casa tiene más críticas que las de Valentina. Tenemos que crear un dataframe con las propiedades de ambos. Las id de las casas de Roberto y Valentina son 43856289 y 107078 respectivamente. "
   ]
  },
  {
   "cell_type": "markdown",
   "metadata": {},
   "source": [
    "## Diana \"la mochilera\"\n",
    "\n",
    "Diana va a CDMX a pasar 3 noches y quiere conocer a gente nueva. Tiene un presupuesto de 1,250 pesos mexicanos para su alojamiento. Debemos buscarle las 10 propiedades más baratas, dandole preferencia a aquellas que sean habitaciones compartidas, y para aquellas viviendas compartidas debemos elegir aquellas con mejor puntuación."
   ]
  }
 ],
 "metadata": {
  "kernelspec": {
   "display_name": "Python 3",
   "language": "python",
   "name": "python3"
  },
  "language_info": {
   "codemirror_mode": {
    "name": "ipython",
    "version": 3
   },
   "file_extension": ".py",
   "mimetype": "text/x-python",
   "name": "python",
   "nbconvert_exporter": "python",
   "pygments_lexer": "ipython3",
   "version": "3.7.7"
  }
 },
 "nbformat": 4,
 "nbformat_minor": 4
}
